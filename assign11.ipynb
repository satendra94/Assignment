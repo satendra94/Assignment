{
 "cells": [
  {
   "cell_type": "raw",
   "id": "6ce92817",
   "metadata": {},
   "source": [
    "1 . you have to write a fun which will take string and return a len of it without using a inbuilt fun len"
   ]
  },
  {
   "cell_type": "code",
   "execution_count": 10,
   "id": "92c4b79d",
   "metadata": {},
   "outputs": [],
   "source": [
    "def test1(a):\n",
    "    \"\"\"find the length of string \"\"\"\n",
    "    if type(a)==str:\n",
    "        count=0\n",
    "        for i in a:\n",
    "            count=count+1\n",
    "    return count"
   ]
  },
  {
   "cell_type": "raw",
   "id": "dec9b48f",
   "metadata": {},
   "source": [
    "2 . write a fun which will be able to print an index of all premitive element which you will pass "
   ]
  },
  {
   "cell_type": "code",
   "execution_count": 22,
   "id": "25286ada",
   "metadata": {},
   "outputs": [],
   "source": [
    "def test2(b):\n",
    "    \"\"\"to find the index of all the premitive elements\"\"\"\n",
    "    count=0\n",
    "    for i in b:\n",
    "        count+=1\n",
    "        print(count)"
   ]
  },
  {
   "cell_type": "raw",
   "id": "2cef0bc7",
   "metadata": {},
   "source": [
    "3 . Write a fun which will take input as a dict and give me out as a list of all the values even in case of 2 level nesting it should work . "
   ]
  },
  {
   "cell_type": "code",
   "execution_count": 73,
   "id": "6b7c813a",
   "metadata": {},
   "outputs": [],
   "source": [
    "def test3(c):  \n",
    "    \"\"\"convert dict to list\"\"\"\n",
    "    n=[]\n",
    "    if type(c)==dict:\n",
    "        for i in c.values():\n",
    "            n.append(i)\n",
    "    return n\n",
    "        "
   ]
  },
  {
   "cell_type": "raw",
   "id": "90a229cb",
   "metadata": {},
   "source": [
    "4 . write a fun which will take another function as an input and return me an output"
   ]
  },
  {
   "cell_type": "code",
   "execution_count": 81,
   "id": "e24b0fcd",
   "metadata": {},
   "outputs": [],
   "source": [
    "def test4():\n",
    "    \"\"\"function to take input from another function\"\"\"\n",
    "    return test5()\n",
    "\n",
    "def test5():\n",
    "    return 'i am in test5'"
   ]
  },
  {
   "cell_type": "raw",
   "id": "0ddf01f4",
   "metadata": {},
   "source": [
    "5. write a function whihc will take multiple list as a input and give me concatnation of all the element as \n",
    "and output "
   ]
  },
  {
   "cell_type": "code",
   "execution_count": 44,
   "id": "e8aacd10",
   "metadata": {},
   "outputs": [],
   "source": [
    "def test6(*sudh):\n",
    "    \"\"\"mutliple list in single list\"\"\"\n",
    "    n=[]\n",
    "    if type(sudh)==list:\n",
    "        for i in sudh:\n",
    "            n.append(i)\n",
    "        return n"
   ]
  },
  {
   "cell_type": "raw",
   "id": "e672d350",
   "metadata": {},
   "source": [
    "6 . write a function which will be able to take a list as an input return an index of each element \n",
    "like a inbuilt index function but even if we have repetative element it should return index "
   ]
  },
  {
   "cell_type": "code",
   "execution_count": 97,
   "id": "1c8ac666",
   "metadata": {},
   "outputs": [],
   "source": [
    "def test7(b):\n",
    "    \"\"\"index of list \"\"\"\n",
    "    count=0\n",
    "    for i in b:\n",
    "        print(count)\n",
    "        count+=1\n",
    "        "
   ]
  },
  {
   "cell_type": "raw",
   "id": "5c61c5f6",
   "metadata": {},
   "source": [
    "9 . write a function which will be able to show date and time  . "
   ]
  },
  {
   "cell_type": "code",
   "execution_count": 36,
   "id": "2af56ab0",
   "metadata": {},
   "outputs": [],
   "source": [
    "def test9():\n",
    "    \"\"\"date and time\"\"\"\n",
    "    import datetime\n",
    "    print(datetime.datetime.now())"
   ]
  },
  {
   "cell_type": "raw",
   "id": "b7c2e491",
   "metadata": {},
   "source": [
    "10 . write a function whihc will be able to read a image file and show it to you ."
   ]
  },
  {
   "cell_type": "code",
   "execution_count": 3,
   "id": "1661afac",
   "metadata": {},
   "outputs": [],
   "source": [
    "def test10(n):\n",
    "    \"\"\"read image and show\"\"\"\n",
    "    import matplotlib.image as mpimg\n",
    "    import matplotlib.pyplot as plt\n",
    "    img=mpimg.imread(n)\n",
    "    plt.imshow(img)"
   ]
  },
  {
   "cell_type": "code",
   "execution_count": null,
   "id": "6ebef76f",
   "metadata": {},
   "outputs": [],
   "source": []
  }
 ],
 "metadata": {
  "kernelspec": {
   "display_name": "Python 3",
   "language": "python",
   "name": "python3"
  },
  "language_info": {
   "codemirror_mode": {
    "name": "ipython",
    "version": 3
   },
   "file_extension": ".py",
   "mimetype": "text/x-python",
   "name": "python",
   "nbconvert_exporter": "python",
   "pygments_lexer": "ipython3",
   "version": "3.8.8"
  }
 },
 "nbformat": 4,
 "nbformat_minor": 5
}
