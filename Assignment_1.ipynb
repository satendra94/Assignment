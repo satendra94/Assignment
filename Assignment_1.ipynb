{
 "cells": [
  {
   "cell_type": "raw",
   "id": "9d3ba60c",
   "metadata": {},
   "source": [
    "1. In the below elements which of them are values or an expression? eg:- values can be\n",
    "integer or string and expressions will be mathematical operators."
   ]
  },
  {
   "cell_type": "raw",
   "id": "6af7acd1",
   "metadata": {},
   "source": [
    "Ans.  *,-,/,+  -- expressions\n",
    "      'hello',6,-87.8  --values"
   ]
  },
  {
   "cell_type": "raw",
   "id": "a4bc2ea7",
   "metadata": {},
   "source": [
    "2. What is the difference between string and variable?"
   ]
  },
  {
   "cell_type": "raw",
   "id": "d1cd4151",
   "metadata": {},
   "source": [
    "Ans. A variable can store everything from strings to numbers.\n",
    "     eg:- var=3\n",
    "     A string is the values inside the quotes assigned to a string.\n",
    "     eg:- st=\"hello\""
   ]
  },
  {
   "cell_type": "raw",
   "id": "36e167df",
   "metadata": {},
   "source": [
    "3. Describe three different data types."
   ]
  },
  {
   "cell_type": "raw",
   "id": "89b2b9ea",
   "metadata": {},
   "source": [
    "Ans. String:- strings are sequence of character data.eg:- print(\"I am a string\").\n",
    "     Boolean:- It provieds the outcome as TRUE or FALSE.eg:- x=true\n",
    "     Set:- It is unordered collection of data type that is mutable and has no duplicate elements.eg:- x={1,2,3,4,56,6,8}       "
   ]
  },
  {
   "cell_type": "raw",
   "id": "c4138683",
   "metadata": {},
   "source": [
    "4. What is an expression made up of? What do all expressions do?"
   ]
  },
  {
   "cell_type": "raw",
   "id": "682b8eb6",
   "metadata": {},
   "source": [
    "Ans. An expression is collection of mathematical operators like *,/,-,+.\n",
    "     they are used to perform mathematical operation."
   ]
  },
  {
   "cell_type": "raw",
   "id": "11856540",
   "metadata": {},
   "source": [
    "5. This assignment statements, like spam = 10. What is the difference between an expression and a statement?"
   ]
  },
  {
   "cell_type": "raw",
   "id": "73c4eadc",
   "metadata": {},
   "source": [
    "Ans. A statement performs some action such as printing values , looping , or if statement.\n",
    "     expressions produce values and we can assign these values to new variables."
   ]
  },
  {
   "cell_type": "raw",
   "id": "192b76ca",
   "metadata": {},
   "source": [
    "6. After running the following code, what does the variable bacon contain?\n",
    "bacon = 22\n",
    "bacon + 1"
   ]
  },
  {
   "cell_type": "raw",
   "id": "2eb68633",
   "metadata": {},
   "source": [
    "Ans.  23"
   ]
  },
  {
   "cell_type": "raw",
   "id": "6d4c1dff",
   "metadata": {},
   "source": [
    "7. What should the values of the following two terms be?\n",
    "\n",
    "'spam'+'spamspam'\n",
    "'spam'*3"
   ]
  },
  {
   "cell_type": "raw",
   "id": "42b6ea66",
   "metadata": {},
   "source": [
    "'spamspamspam'\n",
    "'spamspamspam'"
   ]
  },
  {
   "cell_type": "raw",
   "id": "bfea60dc",
   "metadata": {},
   "source": [
    "8. Why is eggs a valid variable name while 100 is invalid?"
   ]
  },
  {
   "cell_type": "raw",
   "id": "54ec5ed9",
   "metadata": {},
   "source": [
    "Ans. Eggs are valid variable name while 100 is invalid because variable name should not start with a number."
   ]
  },
  {
   "cell_type": "raw",
   "id": "b5ba878b",
   "metadata": {},
   "source": [
    "9.What three functions can be used to get the integer, floating-point number, or string version of a value?"
   ]
  },
  {
   "cell_type": "raw",
   "id": "c26555e6",
   "metadata": {},
   "source": [
    "Ans. for integer- int()\n",
    "     for floating-point- float()\n",
    "     for string- str()"
   ]
  },
  {
   "cell_type": "raw",
   "id": "fd064592",
   "metadata": {},
   "source": [
    "10. Why does this expression cause an error? How can you fix it?\n",
    "'I have eaten'+99+'burritos.'    "
   ]
  },
  {
   "cell_type": "raw",
   "id": "52ad2604",
   "metadata": {},
   "source": [
    "Ans. this expression causes error because strings can be concatenated with string only not with integer.we can fix this by\n",
    "'I have eaten'+str(99)+'burritos.'"
   ]
  },
  {
   "cell_type": "code",
   "execution_count": null,
   "id": "f328abfe",
   "metadata": {},
   "outputs": [],
   "source": []
  },
  {
   "cell_type": "raw",
   "id": "e7bb739b",
   "metadata": {},
   "source": []
  }
 ],
 "metadata": {
  "kernelspec": {
   "display_name": "Python 3",
   "language": "python",
   "name": "python3"
  },
  "language_info": {
   "codemirror_mode": {
    "name": "ipython",
    "version": 3
   },
   "file_extension": ".py",
   "mimetype": "text/x-python",
   "name": "python",
   "nbconvert_exporter": "python",
   "pygments_lexer": "ipython3",
   "version": "3.8.8"
  }
 },
 "nbformat": 4,
 "nbformat_minor": 5
}
