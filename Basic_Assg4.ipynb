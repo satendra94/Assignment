{
 "cells": [
  {
   "cell_type": "raw",
   "id": "6dc293e3",
   "metadata": {},
   "source": [
    "1. What exactly is []?"
   ]
  },
  {
   "cell_type": "raw",
   "id": "881c90b9",
   "metadata": {},
   "source": [
    "Ans. This is a empty list which contains no items."
   ]
  },
  {
   "cell_type": "raw",
   "id": "05842bc6",
   "metadata": {},
   "source": [
    "2. In a list of values stored in a variable called spam, how would you assign the value 'hello' as the third value? (Assume [2, 4, 6, 8, 10] are in spam.)"
   ]
  },
  {
   "cell_type": "raw",
   "id": "4ef34765",
   "metadata": {},
   "source": [
    "Ans. spam[2]=\"hello\""
   ]
  },
  {
   "cell_type": "raw",
   "id": "e3fa8776",
   "metadata": {},
   "source": [
    "Let's pretend the spam includes the list ['a', 'b', 'c', 'd'] for the next three queries."
   ]
  },
  {
   "cell_type": "raw",
   "id": "8ee3ab7a",
   "metadata": {},
   "source": [
    "3. What is the value of spam[int(int('3' * 2) / 11)]?"
   ]
  },
  {
   "cell_type": "raw",
   "id": "24f0a1aa",
   "metadata": {},
   "source": [
    "Ans. spam[3]='d'"
   ]
  },
  {
   "cell_type": "raw",
   "id": "ba70a408",
   "metadata": {},
   "source": [
    "4. What is the value of spam[-1]?"
   ]
  },
  {
   "cell_type": "raw",
   "id": "841c1d2e",
   "metadata": {},
   "source": [
    "Ans. spam[-1]='d'"
   ]
  },
  {
   "cell_type": "raw",
   "id": "b5ac64e2",
   "metadata": {},
   "source": [
    "5. What is the value of spam[:2]?"
   ]
  },
  {
   "cell_type": "raw",
   "id": "2e8cbca3",
   "metadata": {},
   "source": [
    "Ans. spam[:2]=['a','b']"
   ]
  },
  {
   "cell_type": "raw",
   "id": "6f4314e6",
   "metadata": {},
   "source": [
    "Let's pretend bacon has the list [3.14, 'cat,' 11, 'cat,' True] for the next three questions"
   ]
  },
  {
   "cell_type": "raw",
   "id": "2065cafb",
   "metadata": {},
   "source": [
    "6. What is the value of bacon.index('cat')?"
   ]
  },
  {
   "cell_type": "raw",
   "id": "691be7f3",
   "metadata": {},
   "source": [
    "Ans. bacon.index('cat')=1"
   ]
  },
  {
   "cell_type": "raw",
   "id": "474b0d44",
   "metadata": {},
   "source": [
    "7. How does bacon.append(99) change the look of the list value in bacon?"
   ]
  },
  {
   "cell_type": "raw",
   "id": "75affe63",
   "metadata": {},
   "source": [
    "Ans. bacon.append(99)\n",
    "    [3.14, 'cat,' 11, 'cat,' True,99]"
   ]
  },
  {
   "cell_type": "raw",
   "id": "2c05be52",
   "metadata": {},
   "source": [
    "8. How does bacon.remove('cat') change the look of the list in bacon?"
   ]
  },
  {
   "cell_type": "raw",
   "id": "812dc3f3",
   "metadata": {},
   "source": [
    "Ans.bacon.remove('cat')\n",
    "    [3.14, 11,'cat',  True,99]"
   ]
  },
  {
   "cell_type": "raw",
   "id": "50dd4d39",
   "metadata": {},
   "source": [
    "9. What are the list concatenation and list replication operators?"
   ]
  },
  {
   "cell_type": "raw",
   "id": "58bf7d64",
   "metadata": {},
   "source": [
    "Ans.The list concatenation operator is + and replication operator is *.\n",
    "list_1 = ['ML','DL','AI','CV','NLP']\n",
    "list_2 = ['RNN','CNN','SVN']\n",
    "print(list_1 + list_2)\n",
    "print(list_2*2)"
   ]
  },
  {
   "cell_type": "raw",
   "id": "3796640a",
   "metadata": {},
   "source": [
    "10. What is difference between the list methods append() and insert()?"
   ]
  },
  {
   "cell_type": "raw",
   "id": "75bc6714",
   "metadata": {},
   "source": [
    "Ans. The append() will add values only at the end of a list while insert() can add them anywhere in the list with the provided index."
   ]
  },
  {
   "cell_type": "raw",
   "id": "d01ffd55",
   "metadata": {},
   "source": [
    "11. What are the two methods for removing items from a list?"
   ]
  },
  {
   "cell_type": "raw",
   "id": "1851fa1e",
   "metadata": {},
   "source": [
    "Ans. The two methods for removing items from a list are :- del and remove()."
   ]
  },
  {
   "cell_type": "raw",
   "id": "a0194e72",
   "metadata": {},
   "source": [
    "12. Describe how list values and string values are identical."
   ]
  },
  {
   "cell_type": "raw",
   "id": "e1e9e9d1",
   "metadata": {},
   "source": [
    "Ans. Both lists and strings can be passed to len() functoin , have indexes and slices, be used in for loops, be concatenated or replicated, and be used with the in and not in operators."
   ]
  },
  {
   "cell_type": "raw",
   "id": "4d2049a6",
   "metadata": {},
   "source": [
    "13. What's the difference between tuples and lists?"
   ]
  },
  {
   "cell_type": "raw",
   "id": "fe42ef8a",
   "metadata": {},
   "source": [
    "Ans. Lists are mutable, indexable and slicable. they can have values added , removed or changed. and it is represented by []. tuples are immutable, indexable and slicable.it can not be changed . it is represented by ()."
   ]
  },
  {
   "cell_type": "raw",
   "id": "11bb32da",
   "metadata": {},
   "source": [
    "14. How do you type a tuple value that only contains the integer 42?"
   ]
  },
  {
   "cell_type": "code",
   "execution_count": 3,
   "id": "c1742fff",
   "metadata": {},
   "outputs": [
    {
     "name": "stdout",
     "output_type": "stream",
     "text": [
      "<class 'int'>\n",
      "<class 'tuple'>\n"
     ]
    }
   ],
   "source": [
    "tup1=(42)\n",
    "tup2=(42,)\n",
    "print(type(tup1))\n",
    "print(type(tup2))"
   ]
  },
  {
   "cell_type": "raw",
   "id": "5b56cc6f",
   "metadata": {},
   "source": [
    "15. How do you get a list value's tuple form? How do you get a tuple value's list form?"
   ]
  },
  {
   "cell_type": "raw",
   "id": "4354adaf",
   "metadata": {},
   "source": [
    "Ans. the list value to tuple form by tuple(). the tuple value can take list form by list()."
   ]
  },
  {
   "cell_type": "raw",
   "id": "8bfa4033",
   "metadata": {},
   "source": [
    "16. Variables that \"contain\" list values are not necessarily lists themselves. Instead, what do they contain?"
   ]
  },
  {
   "cell_type": "raw",
   "id": "ffe49f88",
   "metadata": {},
   "source": [
    "Ans. They contain references to list values."
   ]
  },
  {
   "cell_type": "raw",
   "id": "1a854f6e",
   "metadata": {},
   "source": [
    "17. How do you distinguish between copy.copy() and copy.deepcopy()?"
   ]
  },
  {
   "cell_type": "raw",
   "id": "d6f8d436",
   "metadata": {},
   "source": [
    "Ans. The copy.copy() function will do a shallow copy of a list .\n",
    "The copy.deepcopy() function will do a deep copy of a list."
   ]
  }
 ],
 "metadata": {
  "kernelspec": {
   "display_name": "Python 3 (ipykernel)",
   "language": "python",
   "name": "python3"
  },
  "language_info": {
   "codemirror_mode": {
    "name": "ipython",
    "version": 3
   },
   "file_extension": ".py",
   "mimetype": "text/x-python",
   "name": "python",
   "nbconvert_exporter": "python",
   "pygments_lexer": "ipython3",
   "version": "3.10.4"
  }
 },
 "nbformat": 4,
 "nbformat_minor": 5
}
