{
 "cells": [
  {
   "cell_type": "raw",
   "id": "0f336d71",
   "metadata": {},
   "source": [
    "1.What are the two values of the Boolean data type? How do you write them?"
   ]
  },
  {
   "cell_type": "raw",
   "id": "09834e94",
   "metadata": {},
   "source": [
    "Ans. The two values of the boolean data type is 0 and 1.\n",
    "    True for 1\n",
    "    False for 0"
   ]
  },
  {
   "cell_type": "raw",
   "id": "57269bc8",
   "metadata": {},
   "source": [
    "2. What are the three different types of Boolean operators?"
   ]
  },
  {
   "cell_type": "raw",
   "id": "46e78197",
   "metadata": {},
   "source": [
    "Ans. the three different types of Boolean operators are:-\n",
    "    1.AND\n",
    "    2.OR\n",
    "    3.NOT"
   ]
  },
  {
   "cell_type": "raw",
   "id": "de94bed8",
   "metadata": {},
   "source": [
    "3. Make a list of each Boolean operator's truth tables (i.e. every possible combination of Boolean values for the operator and what it evaluate )."
   ]
  },
  {
   "cell_type": "raw",
   "id": "57125dda",
   "metadata": {},
   "source": [
    "Ans. AND            \n",
    "    X Y Output    \n",
    "    0 0 0           \n",
    "    0 1 0\n",
    "    1 0 0\n",
    "    1 1 1\n",
    "    \n",
    "    \n",
    "    OR\n",
    "     X Y Output    \n",
    "    0 0 0           \n",
    "    0 1 1\n",
    "    1 0 1\n",
    "    1 1 1\n",
    "    \n",
    "    NOT\n",
    "    X Output\n",
    "    1  0\n",
    "    0  1"
   ]
  },
  {
   "cell_type": "markdown",
   "id": "d6202993",
   "metadata": {},
   "source": [
    "4. What are the values of the following expressions?\n",
    "(5 > 4) and (3 == 5)\n",
    "not (5 > 4)\n",
    "(5 > 4) or (3 == 5)\n",
    "not ((5 > 4) or (3 == 5))\n",
    "(True and True) and (True == False)\n",
    "(not False) or (not True)\n"
   ]
  },
  {
   "cell_type": "raw",
   "id": "ec0d966b",
   "metadata": {},
   "source": [
    "Ans. (5 > 4) and (3 == 5)  :- False\n",
    "        not (5 > 4)  :-       False\n",
    "    (5 > 4) or (3 == 5):-     True\n",
    "not ((5 > 4) or (3 == 5)):-   False\n",
    "(True and True) and (True == False):- False\n",
    "    (not False) or (not True):- True"
   ]
  },
  {
   "cell_type": "markdown",
   "id": "b134f008",
   "metadata": {},
   "source": [
    "5. What are the six comparison operators?"
   ]
  },
  {
   "cell_type": "raw",
   "id": "de6783bc",
   "metadata": {},
   "source": [
    "Ans. The six comparison operators are:-\n",
    "    <,>,==,>=,<=,!="
   ]
  },
  {
   "cell_type": "raw",
   "id": "3e15bad1",
   "metadata": {},
   "source": [
    "6. How do you tell the difference between the equal to and assignment operators?Describe a condition and when you would use one."
   ]
  },
  {
   "cell_type": "raw",
   "id": "03f7d77c",
   "metadata": {},
   "source": [
    "Ans. The equal to operator is used for the comparision purpose. whereas the assignment operator is used to assign any value .\n",
    "\n",
    "5==3 :-equal to operator\n",
    "a=3  :- assignment operator"
   ]
  },
  {
   "cell_type": "raw",
   "id": "76c2f0c6",
   "metadata": {},
   "source": [
    "7. Identify the three blocks in this code:\n",
    "spam = 0\n",
    "if spam == 10:\n",
    "print('eggs')\n",
    "if spam > 5:\n",
    "print('bacon')\n",
    "else:\n",
    "print('ham')\n",
    "print('spam')\n",
    "print('spam')\n"
   ]
  },
  {
   "cell_type": "raw",
   "id": "8da48628",
   "metadata": {},
   "source": [
    "Ans. spam = 0\n",
    "if spam == 10:\n",
    "    print('eggs')\n",
    "if spam > 5:\n",
    "    print('bacon')\n",
    "else:\n",
    "    print('ham')\n",
    "    print('spam')\n",
    "    print('spam')\n",
    "\n",
    "\n",
    "output :- ham\n",
    "          spam\n",
    "          spam"
   ]
  },
  {
   "cell_type": "raw",
   "id": "e6d01f3f",
   "metadata": {},
   "source": [
    "8. Write code that prints Hello if 1 is stored in spam, prints Howdy if 2 is stored in spam, and prints Greetings! if anything else is stored in spam."
   ]
  },
  {
   "cell_type": "raw",
   "id": "2966b436",
   "metadata": {},
   "source": [
    "Ans. spam=int(input(\"enter the value\"))\n",
    "if spam==1:\n",
    "    print(\"Hello\")\n",
    "elif spam==2:\n",
    "    print(\"Howdy\")\n",
    "else:\n",
    "    print(\"Greetings!\")"
   ]
  },
  {
   "cell_type": "raw",
   "id": "2f0261b5",
   "metadata": {},
   "source": [
    "9.If your programme is stuck in an endless loop, what keys you’ll press?"
   ]
  },
  {
   "cell_type": "raw",
   "id": "99bbbb76",
   "metadata": {},
   "source": [
    "Ans. Ctrl + C "
   ]
  },
  {
   "cell_type": "raw",
   "id": "1d23f241",
   "metadata": {},
   "source": [
    "10. How can you tell the difference between break and continue?"
   ]
  },
  {
   "cell_type": "raw",
   "id": "9e4e8cce",
   "metadata": {},
   "source": [
    "Ans.  Break - it terminates the remaining iteration of a loop\n",
    "      continue - it terminates the current iteration of the loop"
   ]
  },
  {
   "cell_type": "raw",
   "id": "fcdc466a",
   "metadata": {},
   "source": [
    "11. In a for loop, what is the difference between range(10), range(0, 10), and range(0, 10, 1)?"
   ]
  },
  {
   "cell_type": "raw",
   "id": "1e99d7b0",
   "metadata": {},
   "source": [
    "Ans. the difference between the range(10), range(0,10) and range(0,10,1) is that in range(10) no start and and end value is mentioned but it will take automatically from 0,10 and range(0,10) has a range from start 0 and end 10 , and range(0,10,1) it has start , end and the step size mention in it."
   ]
  },
  {
   "cell_type": "raw",
   "id": "7c8e0906",
   "metadata": {},
   "source": [
    "12. Write a short program that prints the numbers 1 to 10 using a for loop. Then write an equivalent program that prints the numbers 1 to 10 using a while loop."
   ]
  },
  {
   "cell_type": "raw",
   "id": "c7c6e21f",
   "metadata": {},
   "source": [
    "for i in range(1,10):\n",
    "    print(i)\n",
    "    \n",
    "i=1\n",
    "while i<10:\n",
    "    print(i)\n",
    "    i+=1"
   ]
  },
  {
   "cell_type": "raw",
   "id": "c9650f2c",
   "metadata": {},
   "source": [
    "13. If you had a function named bacon() inside a module named spam, how would you call it after importing spam?"
   ]
  },
  {
   "cell_type": "code",
   "execution_count": null,
   "id": "3b217985",
   "metadata": {},
   "outputs": [],
   "source": [
    "Ans. spam.bacon()"
   ]
  }
 ],
 "metadata": {
  "kernelspec": {
   "display_name": "Python 3 (ipykernel)",
   "language": "python",
   "name": "python3"
  },
  "language_info": {
   "codemirror_mode": {
    "name": "ipython",
    "version": 3
   },
   "file_extension": ".py",
   "mimetype": "text/x-python",
   "name": "python",
   "nbconvert_exporter": "python",
   "pygments_lexer": "ipython3",
   "version": "3.10.4"
  }
 },
 "nbformat": 4,
 "nbformat_minor": 5
}
