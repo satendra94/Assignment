{
 "cells": [
  {
   "cell_type": "raw",
   "id": "4b64d5fc",
   "metadata": {},
   "source": [
    "1. Why are functions advantageous to have in your programs?"
   ]
  },
  {
   "cell_type": "raw",
   "id": "1b731014",
   "metadata": {},
   "source": [
    "Ans. it reduces the need for duplicate code.\n",
    "makes the program shorter\n",
    "its easier to read\n",
    "its easier to update"
   ]
  },
  {
   "cell_type": "raw",
   "id": "4489fabf",
   "metadata": {},
   "source": [
    "2. When does the code in a function run: when it's specified or when it's called?"
   ]
  },
  {
   "cell_type": "raw",
   "id": "cd752d9a",
   "metadata": {},
   "source": [
    "Ans. when it is called"
   ]
  },
  {
   "cell_type": "raw",
   "id": "177bb37d",
   "metadata": {},
   "source": [
    "3. What statement creates a function?"
   ]
  },
  {
   "cell_type": "raw",
   "id": "d532db26",
   "metadata": {},
   "source": [
    "Ans. def function()"
   ]
  },
  {
   "cell_type": "raw",
   "id": "eae9a898",
   "metadata": {},
   "source": [
    "4. What is the difference between a function and a function call?"
   ]
  },
  {
   "cell_type": "raw",
   "id": "70fab3ca",
   "metadata": {},
   "source": [
    "Ans. A function is a block of code that does a particular operation and returns a result."
   ]
  },
  {
   "cell_type": "raw",
   "id": "df5ff99f",
   "metadata": {},
   "source": [
    "5. How many global scopes are there in a Python program? How many local scopes?"
   ]
  },
  {
   "cell_type": "raw",
   "id": "13a3799c",
   "metadata": {},
   "source": [
    "Ans. one global scope and one local scope"
   ]
  },
  {
   "cell_type": "raw",
   "id": "edc57f18",
   "metadata": {},
   "source": [
    "6. What happens to variables in a local scope when the function call returns?"
   ]
  },
  {
   "cell_type": "raw",
   "id": "f3eccdf6",
   "metadata": {},
   "source": [
    "Ans. when the function call returns then the value of local variables also returns and its available within the function"
   ]
  },
  {
   "cell_type": "raw",
   "id": "46e27291",
   "metadata": {},
   "source": [
    "7. What is the concept of a return value? Is it possible to have a return value in an expression?"
   ]
  },
  {
   "cell_type": "raw",
   "id": "23cf980f",
   "metadata": {},
   "source": [
    "Ans. Return is a value that returns a value when a function completes its task.\n",
    "like any value, a return value can be used as part of an expression."
   ]
  },
  {
   "cell_type": "raw",
   "id": "4bb230c3",
   "metadata": {},
   "source": [
    "8. If a function does not have a return statement, what is the return value of a call to that function?"
   ]
  },
  {
   "cell_type": "raw",
   "id": "21b6c952",
   "metadata": {},
   "source": [
    "Ans. if a function does not have a return statement then the function will not return any value. it will return none."
   ]
  },
  {
   "cell_type": "raw",
   "id": "ec33ac8c",
   "metadata": {},
   "source": [
    "9. How do you make a function variable refer to the global variable?"
   ]
  },
  {
   "cell_type": "raw",
   "id": "dd518e79",
   "metadata": {},
   "source": [
    "Ans. A global statement will force a variable in a function to refer to the global variable.if you want to refer to a global variable in a function you can use the global keyword to declare which variables are global."
   ]
  },
  {
   "cell_type": "raw",
   "id": "46d1b053",
   "metadata": {},
   "source": [
    "10. What is the data type of None?"
   ]
  },
  {
   "cell_type": "raw",
   "id": "9f66e37b",
   "metadata": {},
   "source": [
    "Ans. the data type of none is nonetype."
   ]
  },
  {
   "cell_type": "raw",
   "id": "729fd93c",
   "metadata": {},
   "source": [
    "11. What does the sentence import areallyourpetsnamederic do?"
   ]
  },
  {
   "cell_type": "raw",
   "id": "32373e19",
   "metadata": {},
   "source": [
    "Ans. the import statement imports a module named areallyourpetsnamederic."
   ]
  },
  {
   "cell_type": "raw",
   "id": "709a1919",
   "metadata": {},
   "source": [
    "12. If you had a bacon() feature in a spam module, what would you call it after importing spam?"
   ]
  },
  {
   "cell_type": "raw",
   "id": "b9414c4f",
   "metadata": {},
   "source": [
    "Ans. spam.bacon()"
   ]
  },
  {
   "cell_type": "raw",
   "id": "81b12ce1",
   "metadata": {},
   "source": [
    "13. What can you do to save a programme from crashing if it encounters an error?"
   ]
  },
  {
   "cell_type": "raw",
   "id": "6b6b6c03",
   "metadata": {},
   "source": [
    "Ans. we can use the try and except block."
   ]
  },
  {
   "cell_type": "raw",
   "id": "913b259b",
   "metadata": {},
   "source": [
    "14. What is the purpose of the try clause? What is the purpose of the except clause?"
   ]
  },
  {
   "cell_type": "raw",
   "id": "6c75bacf",
   "metadata": {},
   "source": [
    "Ans. The try clause is used where the code can potentially can cause an error and the except executes if there any error in try block."
   ]
  }
 ],
 "metadata": {
  "kernelspec": {
   "display_name": "Python 3 (ipykernel)",
   "language": "python",
   "name": "python3"
  },
  "language_info": {
   "codemirror_mode": {
    "name": "ipython",
    "version": 3
   },
   "file_extension": ".py",
   "mimetype": "text/x-python",
   "name": "python",
   "nbconvert_exporter": "python",
   "pygments_lexer": "ipython3",
   "version": "3.10.4"
  }
 },
 "nbformat": 4,
 "nbformat_minor": 5
}
